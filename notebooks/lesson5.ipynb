{
 "cells": [
  {
   "cell_type": "code",
   "execution_count": 5,
   "id": "a0018c46",
   "metadata": {},
   "outputs": [
    {
     "name": "stdout",
     "output_type": "stream",
     "text": [
      "Spark Running\n"
     ]
    }
   ],
   "source": [
    "import pyspark\n",
    "import pyspark\n",
    "from pyspark.sql import SparkSession\n",
    "import os\n",
    "\n",
    "# ## DEFINE SENSITIVE VARIABLES\n",
    "# NESSIE_URI = \"http://nessie:19120/api/v1\"\n",
    "# MINIO_ACCESS_KEY = \"admin\"\n",
    "# MINIO_SECRET_KEY = \"password\"\n",
    "\n",
    "\n",
    "\n",
    "conf = (\n",
    "    pyspark.SparkConf()\n",
    "        .setAppName('app_name')\n",
    "  \t\t#packages\n",
    "#         .set('spark.jars.packages', 'org.apache.iceberg:iceberg-spark-runtime-3.3_2.12:1.3.1,org.projectnessie.nessie-integrations:nessie-spark-extensions-3.3_2.12:0.67.0,software.amazon.awssdk:bundle:2.17.178,software.amazon.awssdk:url-connection-client:2.17.178')\n",
    "#   \t\t#SQL Extensions\n",
    "#         .set('spark.sql.extensions', 'org.apache.iceberg.spark.extensions.IcebergSparkSessionExtensions,org.projectnessie.spark.extensions.NessieSparkSessionExtensions')\n",
    "#   \t\t#Configuring Catalog\n",
    "#         .set('spark.sql.catalog.nessie', 'org.apache.iceberg.spark.SparkCatalog')\n",
    "#         .set('spark.sql.catalog.nessie.uri', NESSIE_URI)\n",
    "#         .set('spark.sql.catalog.nessie.ref', 'main')\n",
    "#         .set('spark.sql.catalog.nessie.authentication.type', 'NONE')\n",
    "#         .set('spark.sql.catalog.nessie.catalog-impl', 'org.apache.iceberg.nessie.NessieCatalog')\n",
    "#         .set('spark.sql.catalog.nessie.warehouse', 's3a://warehouse')\n",
    "#         .set('spark.sql.catalog.nessie.s3.endpoint', 'http://minio:9000')\n",
    "#         .set('spark.sql.catalog.nessie.io-impl', 'org.apache.iceberg.aws.s3.S3FileIO')\n",
    "#   \t\t#MINIO CREDENTIALS\n",
    "#         .set('spark.hadoop.fs.s3a.access.key', MINIO_ACCESS_KEY)\n",
    "#         .set('spark.hadoop.fs.s3a.secret.key', MINIO_SECRET_KEY)\n",
    ")\n",
    "\n",
    "## Start Spark Session\n",
    "spark = SparkSession.builder.config(conf=conf).getOrCreate()\n",
    "print(\"Spark Running\")\n",
    "\n",
    "## LOAD A CSV INTO AN SQL VIEW\n",
    "csv_df = spark.read.format(\"csv\").option(\"header\", \"true\").load(\"../datasets/df_open_2023.csv\")\n",
    "csv_df.createOrReplaceTempView(\"csv_open\")\n",
    "\n",
    "# ## CREATE AN ICEBERG TABLE FROM THE SQL VIEW\n",
    "# spark.sql(\"CREATE TABLE IF NOT EXISTS nessie.df_open_2023_lesson3 USING iceberg PARTITIONED BY (countryOfOriginCode) AS SELECT * FROM csv_open_2023 ORDER BY countryOfOriginCode;\").show()\n",
    "\n",
    "# ## ALTER PARTITIONING BASED ON TRUNCATE FIRST LETTER OF firstName\n",
    "# spark.sql(\"ALTER TABLE nessie.df_open_2023_lesson3 ADD PARTITION FIELD truncate(1, firstName)\").show()\n",
    "\n",
    "# ## REWRITE ALL THE DATA SO IT ALL USES UPDATED PARTITONING\n",
    "# spark.sql(\"CALL nessie.system.rewrite_data_files('df_open_2023_lesson3')\").show()"
   ]
  },
  {
   "cell_type": "code",
   "execution_count": 6,
   "id": "1edc86aa",
   "metadata": {},
   "outputs": [
    {
     "name": "stdout",
     "output_type": "stream",
     "text": [
      "+------------+-----------------+---------+-----------+------+------+-------------------+-------------------+--------+------------------+-----------+--------------------+---+------+------+-----------+------------+--------+----+\n",
      "|competitorId|   competitorName|firstName|   lastName|status|gender|countryOfOriginCode|countryOfOriginName|regionId|        regionName|affiliateId|       affiliateName|age|height|weight|overallRank|overallScore|genderId|year|\n",
      "+------------+-----------------+---------+-----------+------+------+-------------------+-------------------+--------+------------------+-----------+--------------------+---+------+------+-----------+------------+--------+----+\n",
      "|      469656|    Jeffrey Adler|  Jeffrey|      Adler|   ACT|     M|                 CA|             Canada|      35|North America East|      18059| CrossFit Wonderland| 29| 69 in|197 lb|          1|         107|       1|2023|\n",
      "|      300638|   Tola Morakinyo|     Tola|  Morakinyo|   ACT|     M|                 US|      United States|      35|North America East|      19593|CrossFit East Nas...| 27| 72 in|212 lb|          2|         219|       1|2023|\n",
      "|      676693|   Colten Mertens|   Colten|    Mertens|   ACT|     M|                 US|      United States|      34|North America West|       1324|       CrossFit Kilo| 25| 64 in|180 lb|          3|         367|       1|2023|\n",
      "|      663689|Tyler Christophel|    Tyler|Christophel|   ACT|     M|                 US|      United States|      35|North America East|       3220|     CrossFit Mayhem| 33| 70 in|195 lb|          4|         375|       1|2023|\n",
      "|     1031875|  Roldan Goldbaum|   Roldan|   Goldbaum|   ACT|     M|                 MX|             Mexico|      34|North America West|      21264|Strong Suit CrossFit| 23|170 cm| 86 kg|          5|         526|       1|2023|\n",
      "|      327636| Samuel Cournoyer|   Samuel|  Cournoyer|   ACT|     M|                 CA|             Canada|      35|North America East|      28908|CrossFit ADM Chambly| 27|180 cm|205 lb|          6|         619|       1|2023|\n",
      "|       40955|     Ricky Garard|    Ricky|     Garard|   ACT|     M|                 AU|          Australia|      32|           Oceania|       9286|Fitness Alley Cro...| 29|179 cm|205 lb|          7|         633|       1|2023|\n",
      "|      671093|    Dallin Pepper|   Dallin|     Pepper|   ACT|     M|                 US|      United States|      35|North America East|       1893|     CrossFit Naples| 21| 72 in|215 lb|          8|         656|       1|2023|\n",
      "|      945268|      Reggie Fasa|   Reggie|       Fasa|   ACT|     M|                 GB|     United Kingdom|      29|            Europe|      16754|CrossFit Chester ...| 28|174 cm| 93 kg|          9|         668|       1|2023|\n",
      "|      642094|     Cam Crockett|      Cam|   Crockett|   ACT|     M|                 US|      United States|      35|North America East|       3637|      CrossFit Cadre| 25| 69 in|195 lb|         10|         679|       1|2023|\n",
      "|      947291|  Austin Hatfield|   Austin|   Hatfield|   ACT|     M|                 US|      United States|      35|North America East|       None|                null| 23| 66 in|195 lb|         11|         734|       1|2023|\n",
      "|      843041|      Nick Mathew|     Nick|     Mathew|   ACT|     M|                 US|      United States|      34|North America West|      14452| CrossFit Minnetonka| 29| 69 in|200 lb|         12|         778|       1|2023|\n",
      "|      156156|       Jay Crouch|      Jay|     Crouch|   ACT|     M|                 AU|          Australia|      32|           Oceania|       1348|Reebok CrossFit F...| 24|175 cm| 85 kg|         13|         782|       1|2023|\n",
      "|       20698|  Timothy Paulson|  Timothy|    Paulson|   ACT|     M|                 US|      United States|      35|North America East|      19593|CrossFit East Nas...| 33| 73 in|215 lb|         14|         797|       1|2023|\n",
      "|     1135386|       Aniol Ekai|    Aniol|       Ekai|   ACT|     M|                 ES|              Spain|      29|            Europe|      17272|    CrossFit Zarautz| 26|187 cm| 89 kg|         15|         905|       1|2023|\n",
      "|      822789|    Alex Kotoulas|     Alex|   Kotoulas|   ACT|     M|                 GR|             Greece|      29|            Europe|       None|                null| 30|172 cm| 83 kg|         16|         922|       1|2023|\n",
      "|      975774| Roman Khrennikov|    Roman| Khrennikov|   ACT|     M|                 US|      United States|      35|North America East|       3220|     CrossFit Mayhem| 28|182 cm|103 kg|         17|         935|       1|2023|\n",
      "|     1996260| Alexander Majors|Alexander|     Majors|   ACT|     M|                 US|      United States|      35|North America East|      16832|    CrossFit Polaris| 25|  null|  null|         18|         951|       1|2023|\n",
      "|     1529807|    Travon Benton|   Travon|     Benton|   ACT|     M|                 US|      United States|      34|North America West|       8059|       Fogo CrossFit| 27| 68 in|195 lb|         19|         976|       1|2023|\n",
      "|     1934516| William Leahy IV|  William|   Leahy IV|   ACT|     M|                 US|      United States|      34|North America West|       5222| CrossFit Mandeville| 22| 71 in|195 lb|         20|         991|       1|2023|\n",
      "+------------+-----------------+---------+-----------+------+------+-------------------+-------------------+--------+------------------+-----------+--------------------+---+------+------+-----------+------------+--------+----+\n",
      "only showing top 20 rows\n",
      "\n"
     ]
    }
   ],
   "source": [
    "csv_df.show()"
   ]
  },
  {
   "cell_type": "code",
   "execution_count": 7,
   "id": "98888451",
   "metadata": {},
   "outputs": [
    {
     "name": "stdout",
     "output_type": "stream",
     "text": [
      "25/03/04 12:25:57 WARN ResolveSessionCatalog: A Hive serde table will be created as there is no table provider specified. You can set spark.sql.legacy.createHiveTableByDefault to false so that native data source table will be created instead.\n"
     ]
    },
    {
     "ename": "AnalysisException",
     "evalue": "Hive support is required to CREATE Hive TABLE (AS SELECT);\n'CreateTable `default`.`df_open_lesson5`, org.apache.hadoop.hive.serde2.lazy.LazySimpleSerDe, Ignore\n+- Project [competitorId#169, competitorName#170, firstName#171, lastName#172, status#173, gender#174, countryOfOriginCode#175, countryOfOriginName#176, regionId#177, regionName#178, affiliateId#179, affiliateName#180, age#181, height#182, weight#183, overallRank#184, overallScore#185, genderId#186, year#187]\n   +- SubqueryAlias csv_open\n      +- View (`csv_open`, [competitorId#169,competitorName#170,firstName#171,lastName#172,status#173,gender#174,countryOfOriginCode#175,countryOfOriginName#176,regionId#177,regionName#178,affiliateId#179,affiliateName#180,age#181,height#182,weight#183,overallRank#184,overallScore#185,genderId#186,year#187])\n         +- Relation [competitorId#169,competitorName#170,firstName#171,lastName#172,status#173,gender#174,countryOfOriginCode#175,countryOfOriginName#176,regionId#177,regionName#178,affiliateId#179,affiliateName#180,age#181,height#182,weight#183,overallRank#184,overallScore#185,genderId#186,year#187] csv\n",
     "output_type": "error",
     "traceback": [
      "\u001b[0;31m---------------------------------------------------------------------------\u001b[0m",
      "\u001b[0;31mAnalysisException\u001b[0m                         Traceback (most recent call last)",
      "Cell \u001b[0;32mIn[7], line 1\u001b[0m\n\u001b[0;32m----> 1\u001b[0m \u001b[43mspark\u001b[49m\u001b[38;5;241;43m.\u001b[39;49m\u001b[43msql\u001b[49m\u001b[43m(\u001b[49m\u001b[38;5;124;43m\"\u001b[39;49m\u001b[38;5;124;43mCREATE TABLE IF NOT EXISTS df_open_lesson5 AS SELECT * FROM csv_open;\u001b[39;49m\u001b[38;5;124;43m\"\u001b[39;49m\u001b[43m)\u001b[49m\u001b[38;5;241m.\u001b[39mshow()\n",
      "File \u001b[0;32m~/.local/lib/python3.10/site-packages/pyspark/sql/session.py:1034\u001b[0m, in \u001b[0;36mSparkSession.sql\u001b[0;34m(self, sqlQuery, **kwargs)\u001b[0m\n\u001b[1;32m   1032\u001b[0m     sqlQuery \u001b[38;5;241m=\u001b[39m formatter\u001b[38;5;241m.\u001b[39mformat(sqlQuery, \u001b[38;5;241m*\u001b[39m\u001b[38;5;241m*\u001b[39mkwargs)\n\u001b[1;32m   1033\u001b[0m \u001b[38;5;28;01mtry\u001b[39;00m:\n\u001b[0;32m-> 1034\u001b[0m     \u001b[38;5;28;01mreturn\u001b[39;00m DataFrame(\u001b[38;5;28;43mself\u001b[39;49m\u001b[38;5;241;43m.\u001b[39;49m\u001b[43m_jsparkSession\u001b[49m\u001b[38;5;241;43m.\u001b[39;49m\u001b[43msql\u001b[49m\u001b[43m(\u001b[49m\u001b[43msqlQuery\u001b[49m\u001b[43m)\u001b[49m, \u001b[38;5;28mself\u001b[39m)\n\u001b[1;32m   1035\u001b[0m \u001b[38;5;28;01mfinally\u001b[39;00m:\n\u001b[1;32m   1036\u001b[0m     \u001b[38;5;28;01mif\u001b[39;00m \u001b[38;5;28mlen\u001b[39m(kwargs) \u001b[38;5;241m>\u001b[39m \u001b[38;5;241m0\u001b[39m:\n",
      "File \u001b[0;32m~/.local/lib/python3.10/site-packages/py4j/java_gateway.py:1321\u001b[0m, in \u001b[0;36mJavaMember.__call__\u001b[0;34m(self, *args)\u001b[0m\n\u001b[1;32m   1315\u001b[0m command \u001b[38;5;241m=\u001b[39m proto\u001b[38;5;241m.\u001b[39mCALL_COMMAND_NAME \u001b[38;5;241m+\u001b[39m\\\n\u001b[1;32m   1316\u001b[0m     \u001b[38;5;28mself\u001b[39m\u001b[38;5;241m.\u001b[39mcommand_header \u001b[38;5;241m+\u001b[39m\\\n\u001b[1;32m   1317\u001b[0m     args_command \u001b[38;5;241m+\u001b[39m\\\n\u001b[1;32m   1318\u001b[0m     proto\u001b[38;5;241m.\u001b[39mEND_COMMAND_PART\n\u001b[1;32m   1320\u001b[0m answer \u001b[38;5;241m=\u001b[39m \u001b[38;5;28mself\u001b[39m\u001b[38;5;241m.\u001b[39mgateway_client\u001b[38;5;241m.\u001b[39msend_command(command)\n\u001b[0;32m-> 1321\u001b[0m return_value \u001b[38;5;241m=\u001b[39m \u001b[43mget_return_value\u001b[49m\u001b[43m(\u001b[49m\n\u001b[1;32m   1322\u001b[0m \u001b[43m    \u001b[49m\u001b[43manswer\u001b[49m\u001b[43m,\u001b[49m\u001b[43m \u001b[49m\u001b[38;5;28;43mself\u001b[39;49m\u001b[38;5;241;43m.\u001b[39;49m\u001b[43mgateway_client\u001b[49m\u001b[43m,\u001b[49m\u001b[43m \u001b[49m\u001b[38;5;28;43mself\u001b[39;49m\u001b[38;5;241;43m.\u001b[39;49m\u001b[43mtarget_id\u001b[49m\u001b[43m,\u001b[49m\u001b[43m \u001b[49m\u001b[38;5;28;43mself\u001b[39;49m\u001b[38;5;241;43m.\u001b[39;49m\u001b[43mname\u001b[49m\u001b[43m)\u001b[49m\n\u001b[1;32m   1324\u001b[0m \u001b[38;5;28;01mfor\u001b[39;00m temp_arg \u001b[38;5;129;01min\u001b[39;00m temp_args:\n\u001b[1;32m   1325\u001b[0m     temp_arg\u001b[38;5;241m.\u001b[39m_detach()\n",
      "File \u001b[0;32m~/.local/lib/python3.10/site-packages/pyspark/sql/utils.py:196\u001b[0m, in \u001b[0;36mcapture_sql_exception.<locals>.deco\u001b[0;34m(*a, **kw)\u001b[0m\n\u001b[1;32m    192\u001b[0m converted \u001b[38;5;241m=\u001b[39m convert_exception(e\u001b[38;5;241m.\u001b[39mjava_exception)\n\u001b[1;32m    193\u001b[0m \u001b[38;5;28;01mif\u001b[39;00m \u001b[38;5;129;01mnot\u001b[39;00m \u001b[38;5;28misinstance\u001b[39m(converted, UnknownException):\n\u001b[1;32m    194\u001b[0m     \u001b[38;5;66;03m# Hide where the exception came from that shows a non-Pythonic\u001b[39;00m\n\u001b[1;32m    195\u001b[0m     \u001b[38;5;66;03m# JVM exception message.\u001b[39;00m\n\u001b[0;32m--> 196\u001b[0m     \u001b[38;5;28;01mraise\u001b[39;00m converted \u001b[38;5;28;01mfrom\u001b[39;00m \u001b[38;5;28mNone\u001b[39m\n\u001b[1;32m    197\u001b[0m \u001b[38;5;28;01melse\u001b[39;00m:\n\u001b[1;32m    198\u001b[0m     \u001b[38;5;28;01mraise\u001b[39;00m\n",
      "\u001b[0;31mAnalysisException\u001b[0m: Hive support is required to CREATE Hive TABLE (AS SELECT);\n'CreateTable `default`.`df_open_lesson5`, org.apache.hadoop.hive.serde2.lazy.LazySimpleSerDe, Ignore\n+- Project [competitorId#169, competitorName#170, firstName#171, lastName#172, status#173, gender#174, countryOfOriginCode#175, countryOfOriginName#176, regionId#177, regionName#178, affiliateId#179, affiliateName#180, age#181, height#182, weight#183, overallRank#184, overallScore#185, genderId#186, year#187]\n   +- SubqueryAlias csv_open\n      +- View (`csv_open`, [competitorId#169,competitorName#170,firstName#171,lastName#172,status#173,gender#174,countryOfOriginCode#175,countryOfOriginName#176,regionId#177,regionName#178,affiliateId#179,affiliateName#180,age#181,height#182,weight#183,overallRank#184,overallScore#185,genderId#186,year#187])\n         +- Relation [competitorId#169,competitorName#170,firstName#171,lastName#172,status#173,gender#174,countryOfOriginCode#175,countryOfOriginName#176,regionId#177,regionName#178,affiliateId#179,affiliateName#180,age#181,height#182,weight#183,overallRank#184,overallScore#185,genderId#186,year#187] csv\n"
     ]
    }
   ],
   "source": [
    "spark.sql(\"CREATE TABLE IF NOT EXISTS df_open_lesson5 AS SELECT * FROM csv_open;\").show()\n"
   ]
  },
  {
   "cell_type": "code",
   "execution_count": null,
   "id": "df3d629c",
   "metadata": {},
   "outputs": [],
   "source": []
  }
 ],
 "metadata": {
  "kernelspec": {
   "display_name": "Python 3 (ipykernel)",
   "language": "python",
   "name": "python3"
  },
  "language_info": {
   "codemirror_mode": {
    "name": "ipython",
    "version": 3
   },
   "file_extension": ".py",
   "mimetype": "text/x-python",
   "name": "python",
   "nbconvert_exporter": "python",
   "pygments_lexer": "ipython3",
   "version": "3.10.6"
  }
 },
 "nbformat": 4,
 "nbformat_minor": 5
}
